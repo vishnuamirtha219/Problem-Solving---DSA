{
  "nbformat": 4,
  "nbformat_minor": 0,
  "metadata": {
    "colab": {
      "provenance": []
    },
    "kernelspec": {
      "name": "python3",
      "display_name": "Python 3"
    },
    "language_info": {
      "name": "python"
    }
  },
  "cells": [
    {
      "cell_type": "code",
      "source": [
        "class Solution:\n",
        "    def mergeTwoLists(self, list1: Optional[ListNode], list2: Optional[ListNode]) -> Optional[ListNode]:\n",
        "        dummy = cur = ListNode(-1000)\n",
        "        while list1 and list2:\n",
        "            if list1.val < list2.val:\n",
        "                cur.next=list1\n",
        "                list1=list1.next\n",
        "            else:\n",
        "                cur.next=list2\n",
        "                list2=list2.next\n",
        "            cur=cur.next\n",
        "        cur.next=list1 or list2\n",
        "        return dummy.next"
      ],
      "metadata": {
        "id": "Q5yl83ZFdOtt"
      },
      "execution_count": null,
      "outputs": []
    }
  ]
}