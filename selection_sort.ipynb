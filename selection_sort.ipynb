{
 "cells": [
  {
   "cell_type": "code",
   "execution_count": 7,
   "id": "a802ee38",
   "metadata": {},
   "outputs": [
    {
     "name": "stdout",
     "output_type": "stream",
     "text": [
      "[1, 1, 2, 2, 5, 5, 8, 41, 45, 55, 77]\n"
     ]
    }
   ],
   "source": [
    "arr=[45,8,2,41,5,1,55,77,2,1,5]\n",
    "size =len(arr)\n",
    "\n",
    "for i in range(size-1):\n",
    "    minidx=i\n",
    "    for j in range(i+1,size):\n",
    "        if arr[minidx] > arr[j]:\n",
    "            minidx=j\n",
    "    if minidx != i:\n",
    "        arr[minidx],arr[i]=arr[i],arr[minidx]\n",
    "print(arr)"
   ]
  },
  {
   "cell_type": "code",
   "execution_count": 8,
   "id": "d7d42666",
   "metadata": {},
   "outputs": [
    {
     "name": "stdout",
     "output_type": "stream",
     "text": [
      "[1, 2, 3, 4, 5, 6, 7, 8]\n"
     ]
    }
   ],
   "source": [
    "arr=[7,4,8,6,3,2,5,1]\n",
    "size=len(arr)\n",
    "for i in range(size-1):\n",
    "    minidx=i\n",
    "    for j in range(i+1,size):\n",
    "        if arr[minidx]>arr[j]:\n",
    "            minidx=j\n",
    "    if minidx != i:\n",
    "        arr[minidx],arr[i]=arr[i],arr[minidx]\n",
    "print(arr)\n"
   ]
  },
  {
   "cell_type": "code",
   "execution_count": null,
   "id": "3b719547",
   "metadata": {},
   "outputs": [],
   "source": []
  }
 ],
 "metadata": {
  "kernelspec": {
   "display_name": "Python 3",
   "language": "python",
   "name": "python3"
  },
  "language_info": {
   "codemirror_mode": {
    "name": "ipython",
    "version": 3
   },
   "file_extension": ".py",
   "mimetype": "text/x-python",
   "name": "python",
   "nbconvert_exporter": "python",
   "pygments_lexer": "ipython3",
   "version": "3.12.1"
  }
 },
 "nbformat": 4,
 "nbformat_minor": 5
}
